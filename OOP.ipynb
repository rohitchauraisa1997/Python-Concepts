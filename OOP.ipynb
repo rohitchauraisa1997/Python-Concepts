{
 "cells": [
  {
   "cell_type": "markdown",
   "metadata": {},
   "source": [
    "# Class"
   ]
  },
  {
   "cell_type": "code",
   "execution_count": 276,
   "metadata": {},
   "outputs": [
    {
     "output_type": "execute_result",
     "data": {
      "text/plain": [
       "'c:\\\\Users\\\\rohit\\\\Desktop\\\\Python-Concepts'"
      ]
     },
     "metadata": {},
     "execution_count": 276
    }
   ],
   "source": [
    "pwd"
   ]
  },
  {
   "cell_type": "code",
   "execution_count": 277,
   "metadata": {},
   "outputs": [],
   "source": [
    "class Employee:\n",
    "    pass\n"
   ]
  },
  {
   "cell_type": "code",
   "execution_count": 278,
   "metadata": {},
   "outputs": [],
   "source": [
    "emp_1 = Employee()\n",
    "emp_2 = Employee()"
   ]
  },
  {
   "cell_type": "code",
   "execution_count": 279,
   "metadata": {},
   "outputs": [
    {
     "output_type": "stream",
     "name": "stdout",
     "text": [
      "<__main__.Employee object at 0x00000215D902BCA0>\n<__main__.Employee object at 0x00000215D902BC70>\n"
     ]
    }
   ],
   "source": [
    "print(emp_1)\n",
    "print(emp_2)"
   ]
  },
  {
   "cell_type": "markdown",
   "metadata": {},
   "source": [
    "manually defining atributes for instance"
   ]
  },
  {
   "cell_type": "code",
   "execution_count": 280,
   "metadata": {},
   "outputs": [],
   "source": [
    "emp_1.first = \"rohit\"\n",
    "emp_1.last = \"chaurasia\"\n",
    "emp_1.email = \"rohit.chaurasia@gamil.com\"\n",
    "emp_1.pay = 50000\n"
   ]
  },
  {
   "cell_type": "code",
   "execution_count": 281,
   "metadata": {},
   "outputs": [
    {
     "output_type": "stream",
     "name": "stdout",
     "text": [
      "rohit.chaurasia@gamil.com\n"
     ]
    }
   ],
   "source": [
    "print(emp_1.email)"
   ]
  },
  {
   "cell_type": "code",
   "execution_count": 282,
   "metadata": {},
   "outputs": [],
   "source": [
    "class Employee:\n",
    "    def __init__(self,first,last,pay):\n",
    "        self.first = first\n",
    "        self.last = last\n",
    "        self.pay = pay\n",
    "        self.email = first+'.'+last+'@gmail.com'\n",
    "    \n",
    "    def fullname(self):\n",
    "        return \"{} {}\".format(self.first,self.last)"
   ]
  },
  {
   "cell_type": "code",
   "execution_count": 283,
   "metadata": {},
   "outputs": [],
   "source": [
    "emp_1 = Employee('rohit','chaurasia',40000)"
   ]
  },
  {
   "cell_type": "markdown",
   "metadata": {},
   "source": [
    "how emp_1.fullname() runs in background."
   ]
  },
  {
   "cell_type": "code",
   "execution_count": 284,
   "metadata": {},
   "outputs": [
    {
     "output_type": "execute_result",
     "data": {
      "text/plain": [
       "'rohit chaurasia'"
      ]
     },
     "metadata": {},
     "execution_count": 284
    }
   ],
   "source": [
    "emp_1.fullname()"
   ]
  },
  {
   "cell_type": "code",
   "execution_count": 285,
   "metadata": {},
   "outputs": [
    {
     "output_type": "execute_result",
     "data": {
      "text/plain": [
       "'rohit chaurasia'"
      ]
     },
     "metadata": {},
     "execution_count": 285
    }
   ],
   "source": [
    "Employee.fullname(emp_1)"
   ]
  },
  {
   "cell_type": "markdown",
   "metadata": {},
   "source": [
    "# Class Variables "
   ]
  },
  {
   "cell_type": "markdown",
   "metadata": {},
   "source": [
    "variables that are shared by all instances are called class variables."
   ]
  },
  {
   "cell_type": "code",
   "execution_count": 286,
   "metadata": {},
   "outputs": [],
   "source": [
    "class Employee:\n",
    "    def __init__(self,first,last,pay):\n",
    "        self.first = first\n",
    "        self.last = last\n",
    "        self.pay = pay\n",
    "        self.email = first+'.'+last+'@gmail.com'\n",
    "    \n",
    "    def fullname(self):\n",
    "        return \"{} {}\".format(self.first,self.last)\n",
    "    \n",
    "    def apply_raise(self):\n",
    "        self.pay = self.pay*1.04"
   ]
  },
  {
   "cell_type": "code",
   "execution_count": 287,
   "metadata": {},
   "outputs": [],
   "source": [
    "emp_1 = Employee('rohit','chaurasia',40000)"
   ]
  },
  {
   "cell_type": "code",
   "execution_count": 288,
   "metadata": {},
   "outputs": [
    {
     "output_type": "stream",
     "name": "stdout",
     "text": [
      "40000\n"
     ]
    }
   ],
   "source": [
    "print(emp_1.pay)"
   ]
  },
  {
   "cell_type": "code",
   "execution_count": 289,
   "metadata": {},
   "outputs": [],
   "source": [
    "emp_1.apply_raise()"
   ]
  },
  {
   "cell_type": "code",
   "execution_count": 290,
   "metadata": {},
   "outputs": [
    {
     "output_type": "stream",
     "name": "stdout",
     "text": [
      "41600.0\n"
     ]
    }
   ],
   "source": [
    "print(emp_1.pay)"
   ]
  },
  {
   "cell_type": "markdown",
   "metadata": {},
   "source": [
    "rather than having 1.04 as a constant in apply_raise method we can define it in the Employee class as a class variable."
   ]
  },
  {
   "cell_type": "code",
   "execution_count": 291,
   "metadata": {},
   "outputs": [],
   "source": [
    "class Employee:\n",
    "    \n",
    "    raise_amount = 1.04\n",
    "    def __init__(self,first,last,pay):\n",
    "        self.first = first\n",
    "        self.last = last\n",
    "        self.pay = pay\n",
    "        self.email = first+'.'+last+'@gmail.com'\n",
    "    \n",
    "    def fullname(self):\n",
    "        return \"{} {}\".format(self.first,self.last)\n",
    "    \n",
    "    def apply_raise(self):\n",
    "#         ways to call class variables.\n",
    "#         self.pay = self.pay*Employee.raise_amount\n",
    "        self.pay = self.pay*self.raise_amount"
   ]
  },
  {
   "cell_type": "code",
   "execution_count": 292,
   "metadata": {},
   "outputs": [],
   "source": [
    "emp_1 = Employee('rohit','chaurasia',40000)"
   ]
  },
  {
   "cell_type": "code",
   "execution_count": 293,
   "metadata": {},
   "outputs": [
    {
     "output_type": "stream",
     "name": "stdout",
     "text": [
      "40000\n"
     ]
    }
   ],
   "source": [
    "print(emp_1.pay)"
   ]
  },
  {
   "cell_type": "code",
   "execution_count": 294,
   "metadata": {},
   "outputs": [],
   "source": [
    "emp_1.apply_raise()"
   ]
  },
  {
   "cell_type": "code",
   "execution_count": 295,
   "metadata": {},
   "outputs": [
    {
     "output_type": "stream",
     "name": "stdout",
     "text": [
      "41600.0\n"
     ]
    }
   ],
   "source": [
    "print(emp_1.pay)"
   ]
  },
  {
   "cell_type": "code",
   "execution_count": 296,
   "metadata": {},
   "outputs": [
    {
     "output_type": "stream",
     "name": "stdout",
     "text": [
      "400000\n416000.0\n"
     ]
    }
   ],
   "source": [
    "emp_2 = Employee('abc','xyz',400000)\n",
    "print(emp_2.pay)\n",
    "emp_2.apply_raise()\n",
    "print(emp_2.pay)"
   ]
  },
  {
   "cell_type": "markdown",
   "metadata": {},
   "source": [
    "we can access raise_amount attribute via both class and instance."
   ]
  },
  {
   "cell_type": "code",
   "execution_count": 297,
   "metadata": {},
   "outputs": [
    {
     "output_type": "execute_result",
     "data": {
      "text/plain": [
       "1.04"
      ]
     },
     "metadata": {},
     "execution_count": 297
    }
   ],
   "source": [
    "Employee.raise_amount"
   ]
  },
  {
   "cell_type": "code",
   "execution_count": 298,
   "metadata": {},
   "outputs": [
    {
     "output_type": "execute_result",
     "data": {
      "text/plain": [
       "1.04"
      ]
     },
     "metadata": {},
     "execution_count": 298
    }
   ],
   "source": [
    "emp_1.raise_amount"
   ]
  },
  {
   "cell_type": "markdown",
   "metadata": {},
   "source": [
    " we can see that emp_1 doesnt have \"raise_amount\" attribute in it but its available in Employee"
   ]
  },
  {
   "cell_type": "code",
   "execution_count": 299,
   "metadata": {},
   "outputs": [
    {
     "output_type": "execute_result",
     "data": {
      "text/plain": [
       "{'first': 'rohit',\n",
       " 'last': 'chaurasia',\n",
       " 'pay': 41600.0,\n",
       " 'email': 'rohit.chaurasia@gmail.com'}"
      ]
     },
     "metadata": {},
     "execution_count": 299
    }
   ],
   "source": [
    "emp_1.__dict__"
   ]
  },
  {
   "cell_type": "code",
   "execution_count": 300,
   "metadata": {},
   "outputs": [
    {
     "output_type": "execute_result",
     "data": {
      "text/plain": [
       "mappingproxy({'__module__': '__main__',\n",
       "              'raise_amount': 1.04,\n",
       "              '__init__': <function __main__.Employee.__init__(self, first, last, pay)>,\n",
       "              'fullname': <function __main__.Employee.fullname(self)>,\n",
       "              'apply_raise': <function __main__.Employee.apply_raise(self)>,\n",
       "              '__dict__': <attribute '__dict__' of 'Employee' objects>,\n",
       "              '__weakref__': <attribute '__weakref__' of 'Employee' objects>,\n",
       "              '__doc__': None})"
      ]
     },
     "metadata": {},
     "execution_count": 300
    }
   ],
   "source": [
    "Employee.__dict__"
   ]
  },
  {
   "cell_type": "code",
   "execution_count": 301,
   "metadata": {},
   "outputs": [
    {
     "output_type": "execute_result",
     "data": {
      "text/plain": [
       "1.04"
      ]
     },
     "metadata": {},
     "execution_count": 301
    }
   ],
   "source": [
    "Employee.raise_amount"
   ]
  },
  {
   "cell_type": "code",
   "execution_count": 302,
   "metadata": {},
   "outputs": [],
   "source": [
    "Employee.raise_amount = 1.05"
   ]
  },
  {
   "cell_type": "code",
   "execution_count": 303,
   "metadata": {},
   "outputs": [
    {
     "output_type": "execute_result",
     "data": {
      "text/plain": [
       "1.05"
      ]
     },
     "metadata": {},
     "execution_count": 303
    }
   ],
   "source": [
    "Employee.raise_amount"
   ]
  },
  {
   "cell_type": "code",
   "execution_count": 304,
   "metadata": {},
   "outputs": [
    {
     "output_type": "execute_result",
     "data": {
      "text/plain": [
       "1.05"
      ]
     },
     "metadata": {},
     "execution_count": 304
    }
   ],
   "source": [
    "emp_1.raise_amount"
   ]
  },
  {
   "cell_type": "code",
   "execution_count": 305,
   "metadata": {},
   "outputs": [],
   "source": [
    "emp_1.raise_amount = 1.5"
   ]
  },
  {
   "cell_type": "code",
   "execution_count": 306,
   "metadata": {},
   "outputs": [
    {
     "output_type": "execute_result",
     "data": {
      "text/plain": [
       "1.5"
      ]
     },
     "metadata": {},
     "execution_count": 306
    }
   ],
   "source": [
    "emp_1.raise_amount"
   ]
  },
  {
   "cell_type": "code",
   "execution_count": 307,
   "metadata": {},
   "outputs": [
    {
     "output_type": "execute_result",
     "data": {
      "text/plain": [
       "1.05"
      ]
     },
     "metadata": {},
     "execution_count": 307
    }
   ],
   "source": [
    "Employee.raise_amount"
   ]
  },
  {
   "cell_type": "code",
   "execution_count": 308,
   "metadata": {},
   "outputs": [
    {
     "output_type": "execute_result",
     "data": {
      "text/plain": [
       "{'first': 'rohit',\n",
       " 'last': 'chaurasia',\n",
       " 'pay': 41600.0,\n",
       " 'email': 'rohit.chaurasia@gmail.com',\n",
       " 'raise_amount': 1.5}"
      ]
     },
     "metadata": {},
     "execution_count": 308
    }
   ],
   "source": [
    "emp_1.__dict__"
   ]
  },
  {
   "cell_type": "code",
   "execution_count": 309,
   "metadata": {},
   "outputs": [
    {
     "output_type": "execute_result",
     "data": {
      "text/plain": [
       "{'first': 'abc', 'last': 'xyz', 'pay': 416000.0, 'email': 'abc.xyz@gmail.com'}"
      ]
     },
     "metadata": {},
     "execution_count": 309
    }
   ],
   "source": [
    "emp_2.__dict__"
   ]
  },
  {
   "cell_type": "markdown",
   "metadata": {},
   "source": [
    " using self self.raise_amount other than Employee.raise_amount enables us to change class variables for a particular instance"
   ]
  },
  {
   "cell_type": "code",
   "execution_count": 310,
   "metadata": {},
   "outputs": [],
   "source": [
    "emp_1.apply_raise()"
   ]
  },
  {
   "cell_type": "code",
   "execution_count": 311,
   "metadata": {},
   "outputs": [
    {
     "output_type": "stream",
     "name": "stdout",
     "text": [
      "62400.0\n"
     ]
    }
   ],
   "source": [
    "# uses emp_1.raise_amonut as 1.5\n",
    "print(emp_1.pay)"
   ]
  },
  {
   "cell_type": "code",
   "execution_count": 312,
   "metadata": {},
   "outputs": [],
   "source": [
    "class Employee:\n",
    "    \n",
    "    num_of_emps = 0\n",
    "    \n",
    "    raise_amount = 1.04\n",
    "    def __init__(self,first,last,pay):\n",
    "        self.first = first\n",
    "        self.last = last\n",
    "        self.pay = pay\n",
    "        self.email = first+'.'+last+'@gmail.com'\n",
    "# evetrytime __init__ is called Employee.num_of_emps gets updated.\n",
    "# here it should be Employee.num_of_emps rather than self.num_of_emps\n",
    "        Employee.num_of_emps +=1\n",
    "\n",
    "    def fullname(self):\n",
    "        return \"{} {}\".format(self.first,self.last)\n",
    "    \n",
    "    def apply_raise(self):\n",
    "#         ways to call class variables.\n",
    "#         self.pay = self.pay*Employee.raise_amount\n",
    "        self.pay = self.pay*self.raise_amount"
   ]
  },
  {
   "cell_type": "code",
   "execution_count": 313,
   "metadata": {},
   "outputs": [],
   "source": [
    "emp_1 = Employee(\"rohit\",\"chaurasia\",50000)"
   ]
  },
  {
   "cell_type": "code",
   "execution_count": 314,
   "metadata": {},
   "outputs": [],
   "source": [
    "emp_2 = Employee(\"shagun\",\"chaurasia\",60000)"
   ]
  },
  {
   "cell_type": "code",
   "execution_count": 315,
   "metadata": {},
   "outputs": [],
   "source": [
    "emp_3 = Employee(\"nupur\",\"chaurasia\",70000)"
   ]
  },
  {
   "cell_type": "code",
   "execution_count": 316,
   "metadata": {},
   "outputs": [
    {
     "output_type": "execute_result",
     "data": {
      "text/plain": [
       "3"
      ]
     },
     "metadata": {},
     "execution_count": 316
    }
   ],
   "source": [
    "Employee.num_of_emps"
   ]
  },
  {
   "cell_type": "markdown",
   "metadata": {},
   "source": [
    "# Class methods Vs Static methods "
   ]
  },
  {
   "cell_type": "markdown",
   "metadata": {},
   "source": [
    "Regular methods in a class always take instance as the first argument which is passed as self"
   ]
  },
  {
   "cell_type": "code",
   "execution_count": 317,
   "metadata": {},
   "outputs": [],
   "source": [
    "class Employee:\n",
    "    \n",
    "    num_of_emps = 0\n",
    "    raise_amount = 1.04\n",
    "\n",
    "    def __init__(self,first,last,pay):\n",
    "        self.first = first\n",
    "        self.last = last\n",
    "        self.pay = pay\n",
    "        self.email = first+'.'+last+'@gmail.com'\n",
    "# evetrytime __init__ is called Employee.num_of_emps gets updated.\n",
    "# here it should be Employee.num_of_emps rather than self.num_of_emps\n",
    "        Employee.num_of_emps +=1\n",
    "\n",
    "    def fullname(self):\n",
    "        return \"{} {}\".format(self.first,self.last)\n",
    "    \n",
    "    def apply_raise(self):\n",
    "#         ways to call class variables.\n",
    "#         self.pay = self.pay*Employee.raise_amount\n",
    "        self.pay = self.pay*self.raise_amount\n",
    "    \n",
    "    @classmethod\n",
    "    def set_raise_amt(cls,amount):\n",
    "        cls.raise_amount = amount\n",
    "        "
   ]
  },
  {
   "cell_type": "code",
   "execution_count": 318,
   "metadata": {},
   "outputs": [],
   "source": [
    "emp_1 = Employee(\"rohit\",\"chaurasia\",50000)"
   ]
  },
  {
   "cell_type": "code",
   "execution_count": 319,
   "metadata": {},
   "outputs": [],
   "source": [
    "emp_2 = Employee(\"shagun\",\"chaurasia\",60000)"
   ]
  },
  {
   "cell_type": "code",
   "execution_count": 320,
   "metadata": {},
   "outputs": [],
   "source": [
    "emp_3 = Employee(\"nupur\",\"chaurasia\",70000)"
   ]
  },
  {
   "cell_type": "code",
   "execution_count": 321,
   "metadata": {},
   "outputs": [
    {
     "output_type": "execute_result",
     "data": {
      "text/plain": [
       "1.04"
      ]
     },
     "metadata": {},
     "execution_count": 321
    }
   ],
   "source": [
    "emp_1.raise_amount"
   ]
  },
  {
   "cell_type": "code",
   "execution_count": 322,
   "metadata": {},
   "outputs": [
    {
     "output_type": "execute_result",
     "data": {
      "text/plain": [
       "1.04"
      ]
     },
     "metadata": {},
     "execution_count": 322
    }
   ],
   "source": [
    "emp_2.raise_amount"
   ]
  },
  {
   "cell_type": "code",
   "execution_count": 323,
   "metadata": {},
   "outputs": [
    {
     "output_type": "execute_result",
     "data": {
      "text/plain": [
       "1.04"
      ]
     },
     "metadata": {},
     "execution_count": 323
    }
   ],
   "source": [
    "emp_3.raise_amount"
   ]
  },
  {
   "cell_type": "code",
   "execution_count": 324,
   "metadata": {},
   "outputs": [],
   "source": [
    "Employee.set_raise_amt(1.08)"
   ]
  },
  {
   "cell_type": "code",
   "execution_count": 325,
   "metadata": {},
   "outputs": [
    {
     "output_type": "execute_result",
     "data": {
      "text/plain": [
       "1.08"
      ]
     },
     "metadata": {},
     "execution_count": 325
    }
   ],
   "source": [
    "emp_2.raise_amount"
   ]
  },
  {
   "cell_type": "code",
   "execution_count": 326,
   "metadata": {},
   "outputs": [],
   "source": [
    "class Employee:\n",
    "    \n",
    "    num_of_emps = 0\n",
    "    raise_amount = 1.04\n",
    "\n",
    "    def __init__(self,first,last,pay):\n",
    "        self.first = first\n",
    "        self.last = last\n",
    "        self.pay = pay\n",
    "        self.email = first+'.'+last+'@gmail.com'\n",
    "# evetrytime __init__ is called Employee.num_of_emps gets updated.\n",
    "# here it should be Employee.num_of_emps rather than self.num_of_emps\n",
    "        Employee.num_of_emps +=1\n",
    "\n",
    "    def fullname(self):\n",
    "        return \"{} {}\".format(self.first,self.last)\n",
    "    \n",
    "    def apply_raise(self):\n",
    "#         ways to call class variables.\n",
    "#         self.pay = self.pay*Employee.raise_amount\n",
    "        self.pay = self.pay*self.raise_amount\n",
    "    \n",
    "    @classmethod\n",
    "    def set_raise_amt(cls,amount):\n",
    "        cls.raise_amount = amount\n",
    "    \n",
    "    @classmethod\n",
    "    def from_string(cls,emp_str):\n",
    "        first,last,pay = emp_str.split('-')\n",
    "        return (cls(first,last,pay))"
   ]
  },
  {
   "cell_type": "code",
   "execution_count": 327,
   "metadata": {},
   "outputs": [],
   "source": [
    "emp_str_1 = \"rohit-chaurasia-50000\""
   ]
  },
  {
   "cell_type": "code",
   "execution_count": 328,
   "metadata": {},
   "outputs": [],
   "source": [
    "new_emp_1 = Employee.from_string(emp_str_1)"
   ]
  },
  {
   "cell_type": "code",
   "execution_count": 329,
   "metadata": {},
   "outputs": [
    {
     "output_type": "execute_result",
     "data": {
      "text/plain": [
       "'rohit'"
      ]
     },
     "metadata": {},
     "execution_count": 329
    }
   ],
   "source": [
    "new_emp_1.first"
   ]
  },
  {
   "cell_type": "code",
   "execution_count": 330,
   "metadata": {},
   "outputs": [
    {
     "output_type": "execute_result",
     "data": {
      "text/plain": [
       "'chaurasia'"
      ]
     },
     "metadata": {},
     "execution_count": 330
    }
   ],
   "source": [
    "new_emp_1.last"
   ]
  },
  {
   "cell_type": "code",
   "execution_count": 331,
   "metadata": {},
   "outputs": [
    {
     "output_type": "execute_result",
     "data": {
      "text/plain": [
       "'50000'"
      ]
     },
     "metadata": {},
     "execution_count": 331
    }
   ],
   "source": [
    "new_emp_1.pay"
   ]
  },
  {
   "cell_type": "code",
   "execution_count": 332,
   "metadata": {},
   "outputs": [],
   "source": [
    "class Employee:\n",
    "    \n",
    "    num_of_emps = 0\n",
    "    raise_amount = 1.04\n",
    "\n",
    "    def __init__(self,first,last,pay):\n",
    "        self.first = first\n",
    "        self.last = last\n",
    "        self.pay = pay\n",
    "        self.email = first+'.'+last+'@gmail.com'\n",
    "# evetrytime __init__ is called Employee.num_of_emps gets updated.\n",
    "# here it should be Employee.num_of_emps rather than self.num_of_emps\n",
    "        Employee.num_of_emps +=1\n",
    "\n",
    "    def fullname(self):\n",
    "        return \"{} {}\".format(self.first,self.last)\n",
    "    \n",
    "    def apply_raise(self):\n",
    "#         ways to call class variables.\n",
    "#         self.pay = self.pay*Employee.raise_amount\n",
    "        self.pay = self.pay*self.raise_amount\n",
    "    \n",
    "    @classmethod\n",
    "    def set_raise_amt(cls,amount):\n",
    "        cls.raise_amount = amount\n",
    "    \n",
    "    @classmethod\n",
    "    def from_string(cls,emp_str):\n",
    "        first,last,pay = emp_str.split('-')\n",
    "        return (cls(first,last,pay))\n",
    "    \n",
    "    @staticmethod\n",
    "    def is_workday(day):\n",
    "        if day.weekday()==5 or day.weekday()==6:\n",
    "            return False\n",
    "        return True\n",
    "\n",
    "#used in datetime module."
   ]
  },
  {
   "cell_type": "code",
   "execution_count": 333,
   "metadata": {},
   "outputs": [],
   "source": [
    "import datetime\n",
    "date_passed = datetime.date(2020,9,20)"
   ]
  },
  {
   "cell_type": "code",
   "execution_count": 334,
   "metadata": {},
   "outputs": [
    {
     "output_type": "stream",
     "name": "stdout",
     "text": [
      "False\n"
     ]
    }
   ],
   "source": [
    "print(Employee.is_workday(date_passed))"
   ]
  },
  {
   "cell_type": "markdown",
   "metadata": {},
   "source": [
    "# Inheritance"
   ]
  },
  {
   "cell_type": "code",
   "execution_count": 335,
   "metadata": {},
   "outputs": [],
   "source": [
    "class Employee:\n",
    "    \n",
    "    num_of_emps = 0\n",
    "    raise_amount = 1.04\n",
    "\n",
    "    def __init__(self,first,last,pay):\n",
    "        self.first = first\n",
    "        self.last = last\n",
    "        self.pay = pay\n",
    "        self.email = first+'.'+last+'@gmail.com'\n",
    "# evetrytime __init__ is called Employee.num_of_emps gets updated.\n",
    "# here it should be Employee.num_of_emps rather than self.num_of_emps\n",
    "        Employee.num_of_emps +=1\n",
    "\n",
    "    def fullname(self):\n",
    "        return \"{} {}\".format(self.first,self.last)\n",
    "    \n",
    "    def apply_raise(self):\n",
    "#         ways to call class variables.\n",
    "#         self.pay = self.pay*Employee.raise_amount\n",
    "        self.pay = self.pay*self.raise_amount"
   ]
  },
  {
   "cell_type": "code",
   "execution_count": 336,
   "metadata": {},
   "outputs": [],
   "source": [
    "class Developer(Employee):\n",
    "    pass\n"
   ]
  },
  {
   "cell_type": "code",
   "execution_count": 337,
   "metadata": {},
   "outputs": [],
   "source": [
    "dev_1 = Developer(\"rohit\",\"chaurasia\",50000)\n",
    "dev_2 = Developer(\"abc\",\"xyz\",60000)"
   ]
  },
  {
   "cell_type": "code",
   "execution_count": 338,
   "metadata": {},
   "outputs": [
    {
     "output_type": "execute_result",
     "data": {
      "text/plain": [
       "'rohit chaurasia'"
      ]
     },
     "metadata": {},
     "execution_count": 338
    }
   ],
   "source": [
    "dev_1.fullname()\n"
   ]
  },
  {
   "cell_type": "code",
   "execution_count": 339,
   "metadata": {},
   "outputs": [
    {
     "output_type": "stream",
     "name": "stdout",
     "text": [
      "Help on class Developer in module __main__:\n\nclass Developer(Employee)\n |  Developer(first, last, pay)\n |  \n |  Method resolution order:\n |      Developer\n |      Employee\n |      builtins.object\n |  \n |  Methods inherited from Employee:\n |  \n |  __init__(self, first, last, pay)\n |      Initialize self.  See help(type(self)) for accurate signature.\n |  \n |  apply_raise(self)\n |  \n |  fullname(self)\n |  \n |  ----------------------------------------------------------------------\n |  Data descriptors inherited from Employee:\n |  \n |  __dict__\n |      dictionary for instance variables (if defined)\n |  \n |  __weakref__\n |      list of weak references to the object (if defined)\n |  \n |  ----------------------------------------------------------------------\n |  Data and other attributes inherited from Employee:\n |  \n |  num_of_emps = 2\n |  \n |  raise_amount = 1.04\n\nNone\n"
     ]
    }
   ],
   "source": [
    "print(help(Developer))"
   ]
  },
  {
   "cell_type": "code",
   "execution_count": 340,
   "metadata": {},
   "outputs": [
    {
     "output_type": "execute_result",
     "data": {
      "text/plain": [
       "{'first': 'rohit',\n",
       " 'last': 'chaurasia',\n",
       " 'pay': 50000,\n",
       " 'email': 'rohit.chaurasia@gmail.com'}"
      ]
     },
     "metadata": {},
     "execution_count": 340
    }
   ],
   "source": [
    "dev_1.__dict__"
   ]
  },
  {
   "cell_type": "code",
   "execution_count": 341,
   "metadata": {},
   "outputs": [
    {
     "output_type": "execute_result",
     "data": {
      "text/plain": [
       "50000"
      ]
     },
     "metadata": {},
     "execution_count": 341
    }
   ],
   "source": [
    "dev_1.pay"
   ]
  },
  {
   "cell_type": "code",
   "execution_count": 342,
   "metadata": {},
   "outputs": [],
   "source": [
    "dev_1.apply_raise()"
   ]
  },
  {
   "cell_type": "code",
   "execution_count": 343,
   "metadata": {},
   "outputs": [
    {
     "output_type": "execute_result",
     "data": {
      "text/plain": [
       "52000.0"
      ]
     },
     "metadata": {},
     "execution_count": 343
    }
   ],
   "source": [
    "dev_1.pay"
   ]
  },
  {
   "cell_type": "code",
   "execution_count": 344,
   "metadata": {},
   "outputs": [],
   "source": [
    "class Developer(Employee):\n",
    "    raise_amount = 1.10"
   ]
  },
  {
   "cell_type": "code",
   "execution_count": 345,
   "metadata": {},
   "outputs": [],
   "source": [
    "dev_1 = Developer(\"rohit\",\"chaurasia\",50000)\n",
    "dev_2 = Developer(\"abc\",\"xyz\",60000)"
   ]
  },
  {
   "cell_type": "code",
   "execution_count": 346,
   "metadata": {},
   "outputs": [
    {
     "output_type": "execute_result",
     "data": {
      "text/plain": [
       "50000"
      ]
     },
     "metadata": {},
     "execution_count": 346
    }
   ],
   "source": [
    "dev_1.pay"
   ]
  },
  {
   "cell_type": "code",
   "execution_count": 347,
   "metadata": {},
   "outputs": [],
   "source": [
    "dev_1.apply_raise()"
   ]
  },
  {
   "cell_type": "code",
   "execution_count": 348,
   "metadata": {},
   "outputs": [
    {
     "output_type": "execute_result",
     "data": {
      "text/plain": [
       "55000.00000000001"
      ]
     },
     "metadata": {},
     "execution_count": 348
    }
   ],
   "source": [
    "dev_1.pay"
   ]
  },
  {
   "cell_type": "code",
   "execution_count": 349,
   "metadata": {},
   "outputs": [],
   "source": [
    "class Developer(Employee):\n",
    "    raise_amount = 1.10\n",
    "    def __init__(self,first,last,pay,prog_lang):\n",
    "#         way to call Employee's __init__ method.\n",
    "        super().__init__(first,last,pay)\n",
    "#         Employee.__init__(self,first,last,pay)\n",
    "        self.prog_lang = prog_lang"
   ]
  },
  {
   "cell_type": "code",
   "execution_count": 350,
   "metadata": {},
   "outputs": [],
   "source": [
    "dev_1 = Developer(\"rohit\",\"chaurasia\",50000,\"python\")\n",
    "dev_2 = Developer(\"pints\",\"sharma\",50000,\"python\")\n"
   ]
  },
  {
   "cell_type": "code",
   "execution_count": 351,
   "metadata": {},
   "outputs": [
    {
     "output_type": "stream",
     "name": "stdout",
     "text": [
      "rohit.chaurasia@gmail.com\n"
     ]
    }
   ],
   "source": [
    "print(dev_1.email)"
   ]
  },
  {
   "cell_type": "code",
   "execution_count": 352,
   "metadata": {},
   "outputs": [
    {
     "output_type": "stream",
     "name": "stdout",
     "text": [
      "python\n"
     ]
    }
   ],
   "source": [
    "print(dev_1.prog_lang)"
   ]
  },
  {
   "cell_type": "code",
   "execution_count": 353,
   "metadata": {},
   "outputs": [],
   "source": [
    "class Manager(Employee):\n",
    "    raise_amount = 1.06\n",
    "    def __init__(self,first,last,pay,employee_list=None):\n",
    "        super().__init__(first,last,pay)\n",
    "        if employee_list is None:\n",
    "            self.employee_list = []\n",
    "        else:\n",
    "            self.employee_list = employee_list\n",
    "    \n",
    "    def add_employee(self,emp):\n",
    "        if emp not in self.employee_list:\n",
    "            self.employee_list.append(emp)\n",
    "            \n",
    "    def remove_employee(self,emp):\n",
    "        if emp in self.employee_list:\n",
    "            self.employee_list.remove(emp)\n",
    "    \n",
    "    def print_employees(self):\n",
    "        for emp in self.employee_list:\n",
    "#             print(emp)\n",
    "            print(emp.fullname())\n",
    "            print(emp.email)\n",
    "            print(emp.pay)\n",
    "            print(\"********\")\n",
    "    \n"
   ]
  },
  {
   "cell_type": "code",
   "execution_count": 354,
   "metadata": {},
   "outputs": [],
   "source": [
    "ansh_1 = Manager('anshul','bhatt',100000,employee_list=[dev_1,dev_2])"
   ]
  },
  {
   "cell_type": "code",
   "execution_count": 355,
   "metadata": {},
   "outputs": [
    {
     "output_type": "stream",
     "name": "stdout",
     "text": [
      "rohit chaurasia\nrohit.chaurasia@gmail.com\n50000\n********\npints sharma\npints.sharma@gmail.com\n50000\n********\n"
     ]
    }
   ],
   "source": [
    "ansh_1.print_employees()"
   ]
  },
  {
   "cell_type": "code",
   "execution_count": 356,
   "metadata": {},
   "outputs": [],
   "source": [
    "dev_3 = Developer(\"dukyoung\",\"kim\",50000,\"c\")"
   ]
  },
  {
   "cell_type": "code",
   "execution_count": 357,
   "metadata": {},
   "outputs": [],
   "source": [
    "ansh_1.add_employee(dev_3)"
   ]
  },
  {
   "cell_type": "code",
   "execution_count": 358,
   "metadata": {},
   "outputs": [
    {
     "output_type": "stream",
     "name": "stdout",
     "text": [
      "rohit chaurasia\nrohit.chaurasia@gmail.com\n50000\n********\npints sharma\npints.sharma@gmail.com\n50000\n********\ndukyoung kim\ndukyoung.kim@gmail.com\n50000\n********\n"
     ]
    }
   ],
   "source": [
    "ansh_1.print_employees()"
   ]
  },
  {
   "cell_type": "code",
   "execution_count": 359,
   "metadata": {},
   "outputs": [],
   "source": [
    "ansh_1.remove_employee(dev_2)"
   ]
  },
  {
   "cell_type": "code",
   "execution_count": 360,
   "metadata": {},
   "outputs": [
    {
     "output_type": "stream",
     "name": "stdout",
     "text": [
      "rohit chaurasia\nrohit.chaurasia@gmail.com\n50000\n********\ndukyoung kim\ndukyoung.kim@gmail.com\n50000\n********\n"
     ]
    }
   ],
   "source": [
    "ansh_1.print_employees()"
   ]
  },
  {
   "cell_type": "code",
   "execution_count": 361,
   "metadata": {},
   "outputs": [],
   "source": [
    "ansh_1.remove_employee(dev_3)"
   ]
  },
  {
   "cell_type": "code",
   "execution_count": 362,
   "metadata": {},
   "outputs": [
    {
     "output_type": "stream",
     "name": "stdout",
     "text": [
      "rohit chaurasia\nrohit.chaurasia@gmail.com\n50000\n********\n"
     ]
    }
   ],
   "source": [
    "ansh_1.print_employees()"
   ]
  },
  {
   "cell_type": "code",
   "execution_count": 363,
   "metadata": {},
   "outputs": [
    {
     "output_type": "execute_result",
     "data": {
      "text/plain": [
       "True"
      ]
     },
     "metadata": {},
     "execution_count": 363
    }
   ],
   "source": [
    "isinstance(dev_1,Developer)"
   ]
  },
  {
   "cell_type": "code",
   "execution_count": 364,
   "metadata": {},
   "outputs": [
    {
     "output_type": "execute_result",
     "data": {
      "text/plain": [
       "True"
      ]
     },
     "metadata": {},
     "execution_count": 364
    }
   ],
   "source": [
    "isinstance(ansh_1,Manager)"
   ]
  },
  {
   "cell_type": "code",
   "execution_count": 365,
   "metadata": {},
   "outputs": [
    {
     "output_type": "execute_result",
     "data": {
      "text/plain": [
       "False"
      ]
     },
     "metadata": {},
     "execution_count": 365
    }
   ],
   "source": [
    "isinstance(dev_1,Manager)"
   ]
  },
  {
   "cell_type": "code",
   "execution_count": 366,
   "metadata": {},
   "outputs": [
    {
     "output_type": "execute_result",
     "data": {
      "text/plain": [
       "True"
      ]
     },
     "metadata": {},
     "execution_count": 366
    }
   ],
   "source": [
    "isinstance(dev_1,Employee)"
   ]
  },
  {
   "cell_type": "code",
   "execution_count": 367,
   "metadata": {},
   "outputs": [
    {
     "output_type": "execute_result",
     "data": {
      "text/plain": [
       "True"
      ]
     },
     "metadata": {},
     "execution_count": 367
    }
   ],
   "source": [
    "issubclass(Developer,Employee)"
   ]
  },
  {
   "cell_type": "code",
   "execution_count": 368,
   "metadata": {},
   "outputs": [
    {
     "output_type": "execute_result",
     "data": {
      "text/plain": [
       "True"
      ]
     },
     "metadata": {},
     "execution_count": 368
    }
   ],
   "source": [
    "issubclass(Manager,Employee)"
   ]
  },
  {
   "cell_type": "markdown",
   "metadata": {},
   "source": [
    "# Special Methods "
   ]
  },
  {
   "cell_type": "markdown",
   "metadata": {},
   "source": [
    "by defining our own special methods we can mutate the behaviour of builtin ops.\n"
   ]
  },
  {
   "cell_type": "code",
   "execution_count": 369,
   "metadata": {},
   "outputs": [],
   "source": [
    "class Employee:\n",
    "    \n",
    "    num_of_emps = 0\n",
    "    raise_amount = 1.04\n",
    "\n",
    "    def __init__(self,first,last,pay):\n",
    "        self.first = first\n",
    "        self.last = last\n",
    "        self.pay = pay\n",
    "        self.email = first+'.'+last+'@gmail.com'\n",
    "# evetrytime __init__ is called Employee.num_of_emps gets updated.\n",
    "# here it should be Employee.num_of_emps rather than self.num_of_emps\n",
    "        Employee.num_of_emps +=1\n",
    "\n",
    "    def fullname(self):\n",
    "        return \"{} {}\".format(self.first,self.last)\n",
    "    \n",
    "    def apply_raise(self):\n",
    "#         ways to call class variables.\n",
    "#         self.pay = self.pay*Employee.raise_amount\n",
    "        self.pay = self.pay*self.raise_amount\n",
    "    \n",
    "    def __repr__(self):\n",
    "        return \"Employee({},{},{})\".format(self.first,self.last,self.pay)\n",
    "    \n",
    "    def __str__(self):\n",
    "        return \"{} - {}\".format(self.fullname(),self.email)"
   ]
  },
  {
   "cell_type": "code",
   "execution_count": 370,
   "metadata": {},
   "outputs": [],
   "source": [
    "emp1 = Employee(\"rohit\",\"chaurasia\",60000)"
   ]
  },
  {
   "cell_type": "code",
   "execution_count": 371,
   "metadata": {},
   "outputs": [
    {
     "output_type": "execute_result",
     "data": {
      "text/plain": [
       "Employee(rohit,chaurasia,60000)"
      ]
     },
     "metadata": {},
     "execution_count": 371
    }
   ],
   "source": [
    "emp1"
   ]
  },
  {
   "cell_type": "code",
   "execution_count": 372,
   "metadata": {},
   "outputs": [
    {
     "output_type": "execute_result",
     "data": {
      "text/plain": [
       "'rohit chaurasia - rohit.chaurasia@gmail.com'"
      ]
     },
     "metadata": {},
     "execution_count": 372
    }
   ],
   "source": [
    "emp1.__str__()"
   ]
  },
  {
   "cell_type": "code",
   "execution_count": 373,
   "metadata": {},
   "outputs": [
    {
     "output_type": "execute_result",
     "data": {
      "text/plain": [
       "'Employee(rohit,chaurasia,60000)'"
      ]
     },
     "metadata": {},
     "execution_count": 373
    }
   ],
   "source": [
    "emp1.__repr__()"
   ]
  },
  {
   "cell_type": "code",
   "execution_count": 374,
   "metadata": {},
   "outputs": [],
   "source": [
    "# how 1+2 and a+b works"
   ]
  },
  {
   "cell_type": "code",
   "execution_count": 375,
   "metadata": {},
   "outputs": [
    {
     "output_type": "stream",
     "name": "stdout",
     "text": [
      "3\nab\n"
     ]
    }
   ],
   "source": [
    "print(1+2)\n",
    "print('a'+'b')\n"
   ]
  },
  {
   "cell_type": "code",
   "execution_count": 376,
   "metadata": {},
   "outputs": [
    {
     "output_type": "stream",
     "name": "stdout",
     "text": [
      "3\nab\n"
     ]
    }
   ],
   "source": [
    "print(int.__add__(1,2))\n",
    "print(str.__add__('a','b'))"
   ]
  },
  {
   "cell_type": "code",
   "execution_count": 377,
   "metadata": {},
   "outputs": [
    {
     "output_type": "execute_result",
     "data": {
      "text/plain": [
       "int"
      ]
     },
     "metadata": {},
     "execution_count": 377
    }
   ],
   "source": [
    "type(3)"
   ]
  },
  {
   "cell_type": "code",
   "execution_count": 378,
   "metadata": {},
   "outputs": [],
   "source": [
    "#__add__\n",
    "class Employee:\n",
    "    \n",
    "    num_of_emps = 0\n",
    "    raise_amount = 1.04\n",
    "\n",
    "    def __init__(self,first,last,pay):\n",
    "        self.first = first\n",
    "        self.last = last\n",
    "        self.pay = pay\n",
    "        self.email = first+'.'+last+'@gmail.com'\n",
    "# evetrytime __init__ is called Employee.num_of_emps gets updated.\n",
    "# here it should be Employee.num_of_emps rather than self.num_of_emps\n",
    "        Employee.num_of_emps +=1\n",
    "\n",
    "    def fullname(self):\n",
    "        return \"{} {}\".format(self.first,self.last)\n",
    "    \n",
    "    def apply_raise(self):\n",
    "#         ways to call class variables.\n",
    "#         self.pay = self.pay*Employee.raise_amount\n",
    "        self.pay = self.pay*self.raise_amount\n",
    "    \n",
    "    def __repr__(self):\n",
    "        return \"Employee({},{},{})\".format(self.first,self.last,self.pay)\n",
    "    \n",
    "    def __str__(self):\n",
    "        return \"{} - {}\".format(self.fullname(),self.email)\n",
    "    \n",
    "    def __add__(self,other):\n",
    "        return self.pay+other.pay\n",
    "    \n",
    "    \n",
    "    "
   ]
  },
  {
   "cell_type": "code",
   "execution_count": 379,
   "metadata": {},
   "outputs": [],
   "source": [
    "emp1 = Employee(\"rohit\",\"chaurasia\",60000)\n",
    "emp2 = Employee(\"abc\",\"xyz\",7000)"
   ]
  },
  {
   "cell_type": "code",
   "execution_count": 380,
   "metadata": {},
   "outputs": [
    {
     "output_type": "execute_result",
     "data": {
      "text/plain": [
       "67000"
      ]
     },
     "metadata": {},
     "execution_count": 380
    }
   ],
   "source": [
    "emp1.__add__(emp2)"
   ]
  },
  {
   "cell_type": "code",
   "execution_count": 381,
   "metadata": {},
   "outputs": [
    {
     "output_type": "execute_result",
     "data": {
      "text/plain": [
       "67000"
      ]
     },
     "metadata": {},
     "execution_count": 381
    }
   ],
   "source": [
    "emp1+emp2"
   ]
  },
  {
   "cell_type": "code",
   "execution_count": 382,
   "metadata": {},
   "outputs": [
    {
     "output_type": "execute_result",
     "data": {
      "text/plain": [
       "4"
      ]
     },
     "metadata": {},
     "execution_count": 382
    }
   ],
   "source": [
    "len('test')"
   ]
  },
  {
   "cell_type": "code",
   "execution_count": 383,
   "metadata": {},
   "outputs": [
    {
     "output_type": "execute_result",
     "data": {
      "text/plain": [
       "4"
      ]
     },
     "metadata": {},
     "execution_count": 383
    }
   ],
   "source": [
    "'test'.__len__()"
   ]
  },
  {
   "cell_type": "code",
   "execution_count": 384,
   "metadata": {},
   "outputs": [],
   "source": [
    " import numpy "
   ]
  },
  {
   "cell_type": "code",
   "execution_count": 385,
   "metadata": {
    "tags": [
     "outputPrepend"
    ]
   },
   "outputs": [
    {
     "output_type": "stream",
     "name": "stdout",
     "text": [
      "         exceptions will be raised.\n        \n        Returns\n        -------\n        variance : ndarray, see dtype parameter above\n            If ``out=None``, returns a new array containing the variance;\n            otherwise, a reference to the output array is returned.\n        \n        See Also\n        --------\n        std, mean, nanmean, nanstd, nanvar\n        ufuncs-output-type\n        \n        Notes\n        -----\n        The variance is the average of the squared deviations from the mean,\n        i.e.,  ``var = mean(abs(x - x.mean())**2)``.\n        \n        The mean is normally calculated as ``x.sum() / N``, where ``N = len(x)``.\n        If, however, `ddof` is specified, the divisor ``N - ddof`` is used\n        instead.  In standard statistical practice, ``ddof=1`` provides an\n        unbiased estimator of the variance of a hypothetical infinite population.\n        ``ddof=0`` provides a maximum likelihood estimate of the variance for\n        normally distributed variables.\n        \n        Note that for complex numbers, the absolute value is taken before\n        squaring, so that the result is always real and nonnegative.\n        \n        For floating-point input, the variance is computed using the same\n        precision the input has.  Depending on the input data, this can cause\n        the results to be inaccurate, especially for `float32` (see example\n        below).  Specifying a higher-accuracy accumulator using the ``dtype``\n        keyword can alleviate this issue.\n        \n        Examples\n        --------\n        >>> a = np.array([[1, 2], [3, 4]])\n        >>> np.var(a)\n        1.25\n        >>> np.var(a, axis=0)\n        array([1.,  1.])\n        >>> np.var(a, axis=1)\n        array([0.25,  0.25])\n        \n        In single precision, var() can be inaccurate:\n        \n        >>> a = np.zeros((2, 512*512), dtype=np.float32)\n        >>> a[0, :] = 1.0\n        >>> a[1, :] = 0.1\n        >>> np.var(a)\n        0.20250003\n        \n        Computing the variance in float64 is more accurate:\n        \n        >>> np.var(a, dtype=np.float64)\n        0.20249999932944759 # may vary\n        >>> ((1-0.55)**2 + (0.1-0.55)**2)/2\n        0.2025\n    \n    vdot(...)\n        vdot(a, b)\n        \n        Return the dot product of two vectors.\n        \n        The vdot(`a`, `b`) function handles complex numbers differently than\n        dot(`a`, `b`).  If the first argument is complex the complex conjugate\n        of the first argument is used for the calculation of the dot product.\n        \n        Note that `vdot` handles multidimensional arrays differently than `dot`:\n        it does *not* perform a matrix product, but flattens input arguments\n        to 1-D vectors first. Consequently, it should only be used for vectors.\n        \n        Parameters\n        ----------\n        a : array_like\n            If `a` is complex the complex conjugate is taken before calculation\n            of the dot product.\n        b : array_like\n            Second argument to the dot product.\n        \n        Returns\n        -------\n        output : ndarray\n            Dot product of `a` and `b`.  Can be an int, float, or\n            complex depending on the types of `a` and `b`.\n        \n        See Also\n        --------\n        dot : Return the dot product without using the complex conjugate of the\n              first argument.\n        \n        Examples\n        --------\n        >>> a = np.array([1+2j,3+4j])\n        >>> b = np.array([5+6j,7+8j])\n        >>> np.vdot(a, b)\n        (70-8j)\n        >>> np.vdot(b, a)\n        (70+8j)\n        \n        Note that higher-dimensional arrays are flattened!\n        \n        >>> a = np.array([[1, 4], [5, 6]])\n        >>> b = np.array([[4, 1], [2, 2]])\n        >>> np.vdot(a, b)\n        30\n        >>> np.vdot(b, a)\n        30\n        >>> 1*4 + 4*1 + 5*2 + 6*2\n        30\n    \n    vsplit(ary, indices_or_sections)\n        Split an array into multiple sub-arrays vertically (row-wise).\n        \n        Please refer to the ``split`` documentation.  ``vsplit`` is equivalent\n        to ``split`` with `axis=0` (default), the array is always split along the\n        first axis regardless of the array dimension.\n        \n        See Also\n        --------\n        split : Split an array into multiple sub-arrays of equal size.\n        \n        Examples\n        --------\n        >>> x = np.arange(16.0).reshape(4, 4)\n        >>> x\n        array([[ 0.,   1.,   2.,   3.],\n               [ 4.,   5.,   6.,   7.],\n               [ 8.,   9.,  10.,  11.],\n               [12.,  13.,  14.,  15.]])\n        >>> np.vsplit(x, 2)\n        [array([[0., 1., 2., 3.],\n               [4., 5., 6., 7.]]), array([[ 8.,  9., 10., 11.],\n               [12., 13., 14., 15.]])]\n        >>> np.vsplit(x, np.array([3, 6]))\n        [array([[ 0.,  1.,  2.,  3.],\n               [ 4.,  5.,  6.,  7.],\n               [ 8.,  9., 10., 11.]]), array([[12., 13., 14., 15.]]), array([], shape=(0, 4), dtype=float64)]\n        \n        With a higher dimensional array the split is still along the first axis.\n        \n        >>> x = np.arange(8.0).reshape(2, 2, 2)\n        >>> x\n        array([[[0.,  1.],\n                [2.,  3.]],\n               [[4.,  5.],\n                [6.,  7.]]])\n        >>> np.vsplit(x, 2)\n        [array([[[0., 1.],\n                [2., 3.]]]), array([[[4., 5.],\n                [6., 7.]]])]\n    \n    vstack(tup)\n        Stack arrays in sequence vertically (row wise).\n        \n        This is equivalent to concatenation along the first axis after 1-D arrays\n        of shape `(N,)` have been reshaped to `(1,N)`. Rebuilds arrays divided by\n        `vsplit`.\n        \n        This function makes most sense for arrays with up to 3 dimensions. For\n        instance, for pixel-data with a height (first axis), width (second axis),\n        and r/g/b channels (third axis). The functions `concatenate`, `stack` and\n        `block` provide more general stacking and concatenation operations.\n        \n        Parameters\n        ----------\n        tup : sequence of ndarrays\n            The arrays must have the same shape along all but the first axis.\n            1-D arrays must have the same length.\n        \n        Returns\n        -------\n        stacked : ndarray\n            The array formed by stacking the given arrays, will be at least 2-D.\n        \n        See Also\n        --------\n        concatenate : Join a sequence of arrays along an existing axis.\n        stack : Join a sequence of arrays along a new axis.\n        block : Assemble an nd-array from nested lists of blocks.\n        hstack : Stack arrays in sequence horizontally (column wise).\n        dstack : Stack arrays in sequence depth wise (along third axis).\n        column_stack : Stack 1-D arrays as columns into a 2-D array.\n        vsplit : Split an array into multiple sub-arrays vertically (row-wise).\n        \n        Examples\n        --------\n        >>> a = np.array([1, 2, 3])\n        >>> b = np.array([2, 3, 4])\n        >>> np.vstack((a,b))\n        array([[1, 2, 3],\n               [2, 3, 4]])\n        \n        >>> a = np.array([[1], [2], [3]])\n        >>> b = np.array([[2], [3], [4]])\n        >>> np.vstack((a,b))\n        array([[1],\n               [2],\n               [3],\n               [2],\n               [3],\n               [4]])\n    \n    where(...)\n        where(condition, [x, y])\n        \n        Return elements chosen from `x` or `y` depending on `condition`.\n        \n        .. note::\n            When only `condition` is provided, this function is a shorthand for\n            ``np.asarray(condition).nonzero()``. Using `nonzero` directly should be\n            preferred, as it behaves correctly for subclasses. The rest of this\n            documentation covers only the case where all three arguments are\n            provided.\n        \n        Parameters\n        ----------\n        condition : array_like, bool\n            Where True, yield `x`, otherwise yield `y`.\n        x, y : array_like\n            Values from which to choose. `x`, `y` and `condition` need to be\n            broadcastable to some shape.\n        \n        Returns\n        -------\n        out : ndarray\n            An array with elements from `x` where `condition` is True, and elements\n            from `y` elsewhere.\n        \n        See Also\n        --------\n        choose\n        nonzero : The function that is called when x and y are omitted\n        \n        Notes\n        -----\n        If all the arrays are 1-D, `where` is equivalent to::\n        \n            [xv if c else yv\n             for c, xv, yv in zip(condition, x, y)]\n        \n        Examples\n        --------\n        >>> a = np.arange(10)\n        >>> a\n        array([0, 1, 2, 3, 4, 5, 6, 7, 8, 9])\n        >>> np.where(a < 5, a, 10*a)\n        array([ 0,  1,  2,  3,  4, 50, 60, 70, 80, 90])\n        \n        This can be used on multidimensional arrays too:\n        \n        >>> np.where([[True, False], [True, True]],\n        ...          [[1, 2], [3, 4]],\n        ...          [[9, 8], [7, 6]])\n        array([[1, 8],\n               [3, 4]])\n        \n        The shapes of x, y, and the condition are broadcast together:\n        \n        >>> x, y = np.ogrid[:3, :4]\n        >>> np.where(x < y, x, 10 + y)  # both x and 10+y are broadcast\n        array([[10,  0,  0,  0],\n               [10, 11,  1,  1],\n               [10, 11, 12,  2]])\n        \n        >>> a = np.array([[0, 1, 2],\n        ...               [0, 2, 4],\n        ...               [0, 3, 6]])\n        >>> np.where(a < 4, a, -1)  # -1 is broadcast\n        array([[ 0,  1,  2],\n               [ 0,  2, -1],\n               [ 0,  3, -1]])\n    \n    who(vardict=None)\n        Print the NumPy arrays in the given dictionary.\n        \n        If there is no dictionary passed in or `vardict` is None then returns\n        NumPy arrays in the globals() dictionary (all NumPy arrays in the\n        namespace).\n        \n        Parameters\n        ----------\n        vardict : dict, optional\n            A dictionary possibly containing ndarrays.  Default is globals().\n        \n        Returns\n        -------\n        out : None\n            Returns 'None'.\n        \n        Notes\n        -----\n        Prints out the name, shape, bytes and type of all of the ndarrays\n        present in `vardict`.\n        \n        Examples\n        --------\n        >>> a = np.arange(10)\n        >>> b = np.ones(20)\n        >>> np.who()\n        Name            Shape            Bytes            Type\n        ===========================================================\n        a               10               80               int64\n        b               20               160              float64\n        Upper bound on total bytes  =       240\n        \n        >>> d = {'x': np.arange(2.0), 'y': np.arange(3.0), 'txt': 'Some str',\n        ... 'idx':5}\n        >>> np.who(d)\n        Name            Shape            Bytes            Type\n        ===========================================================\n        x               2                16               float64\n        y               3                24               float64\n        Upper bound on total bytes  =       40\n    \n    zeros(...)\n        zeros(shape, dtype=float, order='C')\n        \n        Return a new array of given shape and type, filled with zeros.\n        \n        Parameters\n        ----------\n        shape : int or tuple of ints\n            Shape of the new array, e.g., ``(2, 3)`` or ``2``.\n        dtype : data-type, optional\n            The desired data-type for the array, e.g., `numpy.int8`.  Default is\n            `numpy.float64`.\n        order : {'C', 'F'}, optional, default: 'C'\n            Whether to store multi-dimensional data in row-major\n            (C-style) or column-major (Fortran-style) order in\n            memory.\n        \n        Returns\n        -------\n        out : ndarray\n            Array of zeros with the given shape, dtype, and order.\n        \n        See Also\n        --------\n        zeros_like : Return an array of zeros with shape and type of input.\n        empty : Return a new uninitialized array.\n        ones : Return a new array setting values to one.\n        full : Return a new array of given shape filled with value.\n        \n        Examples\n        --------\n        >>> np.zeros(5)\n        array([ 0.,  0.,  0.,  0.,  0.])\n        \n        >>> np.zeros((5,), dtype=int)\n        array([0, 0, 0, 0, 0])\n        \n        >>> np.zeros((2, 1))\n        array([[ 0.],\n               [ 0.]])\n        \n        >>> s = (2,2)\n        >>> np.zeros(s)\n        array([[ 0.,  0.],\n               [ 0.,  0.]])\n        \n        >>> np.zeros((2,), dtype=[('x', 'i4'), ('y', 'i4')]) # custom dtype\n        array([(0, 0), (0, 0)],\n              dtype=[('x', '<i4'), ('y', '<i4')])\n    \n    zeros_like(a, dtype=None, order='K', subok=True, shape=None)\n        Return an array of zeros with the same shape and type as a given array.\n        \n        Parameters\n        ----------\n        a : array_like\n            The shape and data-type of `a` define these same attributes of\n            the returned array.\n        dtype : data-type, optional\n            Overrides the data type of the result.\n        \n            .. versionadded:: 1.6.0\n        order : {'C', 'F', 'A', or 'K'}, optional\n            Overrides the memory layout of the result. 'C' means C-order,\n            'F' means F-order, 'A' means 'F' if `a` is Fortran contiguous,\n            'C' otherwise. 'K' means match the layout of `a` as closely\n            as possible.\n        \n            .. versionadded:: 1.6.0\n        subok : bool, optional.\n            If True, then the newly created array will use the sub-class\n            type of 'a', otherwise it will be a base-class array. Defaults\n            to True.\n        shape : int or sequence of ints, optional.\n            Overrides the shape of the result. If order='K' and the number of\n            dimensions is unchanged, will try to keep order, otherwise,\n            order='C' is implied.\n        \n            .. versionadded:: 1.17.0\n        \n        Returns\n        -------\n        out : ndarray\n            Array of zeros with the same shape and type as `a`.\n        \n        See Also\n        --------\n        empty_like : Return an empty array with shape and type of input.\n        ones_like : Return an array of ones with shape and type of input.\n        full_like : Return a new array with shape of input filled with value.\n        zeros : Return a new array setting values to zero.\n        \n        Examples\n        --------\n        >>> x = np.arange(6)\n        >>> x = x.reshape((2, 3))\n        >>> x\n        array([[0, 1, 2],\n               [3, 4, 5]])\n        >>> np.zeros_like(x)\n        array([[0, 0, 0],\n               [0, 0, 0]])\n        \n        >>> y = np.arange(3, dtype=float)\n        >>> y\n        array([0., 1., 2.])\n        >>> np.zeros_like(y)\n        array([0.,  0.,  0.])\n\nDATA\n    ALLOW_THREADS = 1\n    BUFSIZE = 8192\n    CLIP = 0\n    ERR_CALL = 3\n    ERR_DEFAULT = 521\n    ERR_IGNORE = 0\n    ERR_LOG = 5\n    ERR_PRINT = 4\n    ERR_RAISE = 2\n    ERR_WARN = 1\n    FLOATING_POINT_SUPPORT = 1\n    FPE_DIVIDEBYZERO = 1\n    FPE_INVALID = 8\n    FPE_OVERFLOW = 2\n    FPE_UNDERFLOW = 4\n    False_ = False\n    Inf = inf\n    Infinity = inf\n    MAXDIMS = 32\n    MAY_SHARE_BOUNDS = 0\n    MAY_SHARE_EXACT = -1\n    NAN = nan\n    NINF = -inf\n    NZERO = -0.0\n    NaN = nan\n    PINF = inf\n    PZERO = 0.0\n    RAISE = 2\n    SHIFT_DIVIDEBYZERO = 0\n    SHIFT_INVALID = 9\n    SHIFT_OVERFLOW = 3\n    SHIFT_UNDERFLOW = 6\n    ScalarType = (<class 'int'>, <class 'float'>, <class 'complex'>, <clas...\n    True_ = True\n    UFUNC_BUFSIZE_DEFAULT = 8192\n    UFUNC_PYVALS_NAME = 'UFUNC_PYVALS'\n    WRAP = 1\n    _UFUNC_API = <capsule object NULL>\n    __NUMPY_SETUP__ = False\n    __all__ = ['ModuleDeprecationWarning', 'VisibleDeprecationWarning', '_...\n    __git_revision__ = '68752f786df542d340f25c41a8920d9b2aed66cf'\n    __mkl_version__ = '2020.2'\n    absolute = <ufunc 'absolute'>\n    add = <ufunc 'add'>\n    arccos = <ufunc 'arccos'>\n    arccosh = <ufunc 'arccosh'>\n    arcsin = <ufunc 'arcsin'>\n    arcsinh = <ufunc 'arcsinh'>\n    arctan = <ufunc 'arctan'>\n    arctan2 = <ufunc 'arctan2'>\n    arctanh = <ufunc 'arctanh'>\n    bitwise_and = <ufunc 'bitwise_and'>\n    bitwise_not = <ufunc 'invert'>\n    bitwise_or = <ufunc 'bitwise_or'>\n    bitwise_xor = <ufunc 'bitwise_xor'>\n    c_ = <numpy.lib.index_tricks.CClass object>\n    cast = {<class 'numpy.uint32'>: <function <lambda> at 0...nt8'>: <func...\n    cbrt = <ufunc 'cbrt'>\n    ceil = <ufunc 'ceil'>\n    conj = <ufunc 'conjugate'>\n    conjugate = <ufunc 'conjugate'>\n    copysign = <ufunc 'copysign'>\n    cos = <ufunc 'cos'>\n    cosh = <ufunc 'cosh'>\n    deg2rad = <ufunc 'deg2rad'>\n    degrees = <ufunc 'degrees'>\n    divide = <ufunc 'true_divide'>\n    divmod = <ufunc 'divmod'>\n    e = 2.718281828459045\n    equal = <ufunc 'equal'>\n    euler_gamma = 0.5772156649015329\n    exp = <ufunc 'exp'>\n    exp2 = <ufunc 'exp2'>\n    expm1 = <ufunc 'expm1'>\n    fabs = <ufunc 'fabs'>\n    float_power = <ufunc 'float_power'>\n    floor = <ufunc 'floor'>\n    floor_divide = <ufunc 'floor_divide'>\n    fmax = <ufunc 'fmax'>\n    fmin = <ufunc 'fmin'>\n    fmod = <ufunc 'fmod'>\n    frexp = <ufunc 'frexp'>\n    gcd = <ufunc 'gcd'>\n    greater = <ufunc 'greater'>\n    greater_equal = <ufunc 'greater_equal'>\n    heaviside = <ufunc 'heaviside'>\n    hypot = <ufunc 'hypot'>\n    index_exp = <numpy.lib.index_tricks.IndexExpression object>\n    inf = inf\n    infty = inf\n    invert = <ufunc 'invert'>\n    isfinite = <ufunc 'isfinite'>\n    isinf = <ufunc 'isinf'>\n    isnan = <ufunc 'isnan'>\n    isnat = <ufunc 'isnat'>\n    lcm = <ufunc 'lcm'>\n    ldexp = <ufunc 'ldexp'>\n    left_shift = <ufunc 'left_shift'>\n    less = <ufunc 'less'>\n    less_equal = <ufunc 'less_equal'>\n    little_endian = True\n    log = <ufunc 'log'>\n    log10 = <ufunc 'log10'>\n    log1p = <ufunc 'log1p'>\n    log2 = <ufunc 'log2'>\n    logaddexp = <ufunc 'logaddexp'>\n    logaddexp2 = <ufunc 'logaddexp2'>\n    logical_and = <ufunc 'logical_and'>\n    logical_not = <ufunc 'logical_not'>\n    logical_or = <ufunc 'logical_or'>\n    logical_xor = <ufunc 'logical_xor'>\n    matmul = <ufunc 'matmul'>\n    maximum = <ufunc 'maximum'>\n    mgrid = <numpy.lib.index_tricks.MGridClass object>\n    minimum = <ufunc 'minimum'>\n    mod = <ufunc 'remainder'>\n    modf = <ufunc 'modf'>\n    multiply = <ufunc 'multiply'>\n    nan = nan\n    nbytes = {<class 'numpy.bool_'>: 1, <class 'numpy.int8'>:....datetime6...\n    negative = <ufunc 'negative'>\n    newaxis = None\n    nextafter = <ufunc 'nextafter'>\n    not_equal = <ufunc 'not_equal'>\n    ogrid = <numpy.lib.index_tricks.OGridClass object>\n    pi = 3.141592653589793\n    positive = <ufunc 'positive'>\n    power = <ufunc 'power'>\n    r_ = <numpy.lib.index_tricks.RClass object>\n    rad2deg = <ufunc 'rad2deg'>\n    radians = <ufunc 'radians'>\n    reciprocal = <ufunc 'reciprocal'>\n    remainder = <ufunc 'remainder'>\n    right_shift = <ufunc 'right_shift'>\n    rint = <ufunc 'rint'>\n    s_ = <numpy.lib.index_tricks.IndexExpression object>\n    sctypeDict = {'?': <class 'numpy.bool_'>, 0: <class 'numpy.bool_'>, 'b...\n    sctypeNA = {'Bool': <class 'numpy.bool_'>, <class 'numpy.bo...'>, <cla...\n    sctypes = {'complex': [<class 'numpy.complex64'>, <class 'numpy.comple...\n    sign = <ufunc 'sign'>\n    signbit = <ufunc 'signbit'>\n    sin = <ufunc 'sin'>\n    sinh = <ufunc 'sinh'>\n    spacing = <ufunc 'spacing'>\n    sqrt = <ufunc 'sqrt'>\n    square = <ufunc 'square'>\n    subtract = <ufunc 'subtract'>\n    tan = <ufunc 'tan'>\n    tanh = <ufunc 'tanh'>\n    tracemalloc_domain = 389047\n    true_divide = <ufunc 'true_divide'>\n    trunc = <ufunc 'trunc'>\n    typeDict = {'?': <class 'numpy.bool_'>, 0: <class 'numpy.bool_'>, 'byt...\n    typeNA = {'Bool': <class 'numpy.bool_'>, <class 'numpy.bo...'>, <class...\n    typecodes = {'All': '?bhilqpBHILQPefdgFDGSUVOMm', 'AllFloat': 'efdgFDG...\n\nVERSION\n    1.19.2\n\nFILE\n    c:\\programdata\\anaconda3\\lib\\site-packages\\numpy\\__init__.py\n\n\nNone\n"
     ]
    }
   ],
   "source": [
    "print(help(numpy))"
   ]
  },
  {
   "cell_type": "code",
   "execution_count": 386,
   "metadata": {},
   "outputs": [
    {
     "output_type": "execute_result",
     "data": {
      "text/plain": [
       "'c:\\\\Users\\\\rohit\\\\Desktop\\\\Python-Concepts'"
      ]
     },
     "metadata": {},
     "execution_count": 386
    }
   ],
   "source": [
    "pwd"
   ]
  },
  {
   "cell_type": "code",
   "execution_count": null,
   "metadata": {},
   "outputs": [],
   "source": []
  }
 ],
 "metadata": {
  "kernelspec": {
   "display_name": "Python 3",
   "language": "python",
   "name": "python3"
  },
  "language_info": {
   "codemirror_mode": {
    "name": "ipython",
    "version": 3
   },
   "file_extension": ".py",
   "mimetype": "text/x-python",
   "name": "python",
   "nbconvert_exporter": "python",
   "pygments_lexer": "ipython3",
   "version": "3.8.5-final"
  }
 },
 "nbformat": 4,
 "nbformat_minor": 2
}